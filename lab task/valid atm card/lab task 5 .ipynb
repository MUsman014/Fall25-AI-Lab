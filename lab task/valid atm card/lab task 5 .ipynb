{
 "cells": [
  {
   "cell_type": "code",
   "execution_count": 6,
   "id": "086bbc10",
   "metadata": {},
   "outputs": [
    {
     "name": "stdout",
     "output_type": "stream",
     "text": [
      "True\n"
     ]
    }
   ],
   "source": [
    "def atm_card_check(card_no):\n",
    "    digits = [int(d) for d in card_no[:-1]]  \n",
    "    check_digit = int(card_no[-1]) \n",
    "\n",
    "    digits = digits[::-1]\n",
    "    for i in range(len(digits)):\n",
    "        if i % 2 == 0:  \n",
    "            digits[i] *= 2\n",
    "            if digits[i] > 9:\n",
    "                digits[i] -= 9\n",
    "    total_sum = sum(digits)\n",
    "    total_sum += check_digit\n",
    "    if total_sum % 10 == 0:\n",
    "        return True\n",
    "    else:\n",
    "        return False\n",
    "card_number = \"4649516101066276\" \n",
    "print(atm_card_check(card_number))  "
   ]
  }
 ],
 "metadata": {
  "kernelspec": {
   "display_name": "base",
   "language": "python",
   "name": "python3"
  },
  "language_info": {
   "codemirror_mode": {
    "name": "ipython",
    "version": 3
   },
   "file_extension": ".py",
   "mimetype": "text/x-python",
   "name": "python",
   "nbconvert_exporter": "python",
   "pygments_lexer": "ipython3",
   "version": "3.12.4"
  }
 },
 "nbformat": 4,
 "nbformat_minor": 5
}
