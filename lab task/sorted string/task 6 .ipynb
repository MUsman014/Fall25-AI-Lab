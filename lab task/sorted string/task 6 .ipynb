{
 "cells": [
  {
   "cell_type": "code",
   "execution_count": null,
   "id": "2cf9271e",
   "metadata": {},
   "outputs": [
    {
     "name": "stdout",
     "output_type": "stream",
     "text": [
      "Sorted string by ASCII using Bubble Sort: amnsu\n"
     ]
    }
   ],
   "source": [
    "\n",
    "\n",
    "user_text = input(\"Enter a string: \")\n",
    "char_list = list(user_text)\n",
    "\n",
    "n = len(char_list)\n",
    "for i in range(n):\n",
    "    for j in range(0, n - i - 1):\n",
    "        if ord(char_list[j]) > ord(char_list[j + 1]):\n",
    "            char_list[j], char_list[j + 1] = char_list[j + 1], char_list[j]\n",
    "\n",
    "sorted_text = ''.join(char_list)  \n",
    "print(\"Sorted string by ASCII using Bubble Sort:\", sorted_text)\n"
   ]
  }
 ],
 "metadata": {
  "kernelspec": {
   "display_name": "base",
   "language": "python",
   "name": "python3"
  },
  "language_info": {
   "codemirror_mode": {
    "name": "ipython",
    "version": 3
   },
   "file_extension": ".py",
   "mimetype": "text/x-python",
   "name": "python",
   "nbconvert_exporter": "python",
   "pygments_lexer": "ipython3",
   "version": "3.12.4"
  }
 },
 "nbformat": 4,
 "nbformat_minor": 5
}
