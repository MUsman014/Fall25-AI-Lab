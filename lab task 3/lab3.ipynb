{
 "cells": [
  {
   "cell_type": "code",
   "execution_count": 5,
   "id": "b555b472",
   "metadata": {},
   "outputs": [
    {
     "name": "stdout",
     "output_type": "stream",
     "text": [
      "Living Room :\t20 => Action: Turn on the AC\n",
      "Drawing Room :\t22 => No unnecessary change\n",
      "Kitchen :\t34 => No unnecessary change\n",
      "Living Room Again :\t20 => No unnecessary change\n",
      "\n",
      "--- Agent History ---\n",
      "Living Room => (20, 'Turn on the AC')\n",
      "Drawing Room => (22, 'Turn on the AC')\n",
      "Kitchen => (34, 'Turn on the AC')\n",
      "Living Room Again => (20, 'Turn on the AC')\n"
     ]
    }
   ],
   "source": [
    "class SimpleReflexAgent:\n",
    "    def __init__(self, temp):  \n",
    "        self.fixed_temp = temp\n",
    "        self.previous_action = None   \n",
    "        self.history = {}  \n",
    "\n",
    "    def sensor(self, temp):\n",
    "        self.current_temp = temp\n",
    "    \n",
    "    def performance(self):\n",
    "        if self.current_temp > self.fixed_temp:\n",
    "            return \"Turn on the AC\"\n",
    "        else:\n",
    "            return \"Turn off the AC\"\n",
    "    \n",
    "    def actuator(self, room):\n",
    "    \n",
    "        if room in self.history and self.history[room][0] == self.current_temp:\n",
    "        \n",
    "            print(self.current_temp, \"=> From History:\", self.history[room][1])\n",
    "        else:\n",
    "        \n",
    "            action = self.performance()\n",
    "            \n",
    "            if action != self.previous_action:     \n",
    "                print(self.current_temp, \"=> Action:\", action)\n",
    "            else:\n",
    "                print(self.current_temp, \"=> No unnecessary change\")\n",
    "            \n",
    "        \n",
    "            self.history[room] = (self.current_temp, action)\n",
    "            self.previous_action = action           \n",
    "\n",
    "rooms = {\n",
    "    \"Living Room\": 20,\n",
    "    \"Drawing Room\": 22,\n",
    "    \"Kitchen\": 34,\n",
    "    \"Living Room Again\": 20, \n",
    "}\n",
    "\n",
    "agent = SimpleReflexAgent(16) \n",
    "\n",
    "for room, temp in rooms.items():\n",
    "    print(room, end=' :\\t')\n",
    "    agent.sensor(temp)\n",
    "    agent.actuator(room)\n",
    "\n",
    "print(\"\\n--- Agent History ---\")\n",
    "for room, record in agent.history.items():\n",
    "    print(room, \"=>\", record)\n"
   ]
  },
  {
   "cell_type": "code",
   "execution_count": null,
   "id": "30e23c1c",
   "metadata": {},
   "outputs": [],
   "source": []
  }
 ],
 "metadata": {
  "kernelspec": {
   "display_name": "base",
   "language": "python",
   "name": "python3"
  },
  "language_info": {
   "codemirror_mode": {
    "name": "ipython",
    "version": 3
   },
   "file_extension": ".py",
   "mimetype": "text/x-python",
   "name": "python",
   "nbconvert_exporter": "python",
   "pygments_lexer": "ipython3",
   "version": "3.12.4"
  }
 },
 "nbformat": 4,
 "nbformat_minor": 5
}
