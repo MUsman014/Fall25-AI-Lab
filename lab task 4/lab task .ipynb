{
 "cells": [
  {
   "cell_type": "code",
   "execution_count": null,
   "id": "cc23297f",
   "metadata": {},
   "outputs": [
    {
     "name": "stdout",
     "output_type": "stream",
     "text": [
      "kuxh bhi  kuxh  bhi  \n"
     ]
    }
   ],
   "source": [
    "def remove_special_characters(text):\n",
    "    result = \"\"\n",
    "    for ch in text:\n",
    "        \n",
    "        if ('A' <= ch <= 'Z') or ('a' <= ch <= 'z') or ('0' <= ch <= '9') or ch == \" \":\n",
    "            result += ch\n",
    "    return result\n",
    "\n",
    "\n",
    "text = \"kuxh bhi , kuxh ? bhi ! \"\n",
    "print(remove_special_characters(text))"
   ]
  }
 ],
 "metadata": {
  "kernelspec": {
   "display_name": "base",
   "language": "python",
   "name": "python3"
  },
  "language_info": {
   "codemirror_mode": {
    "name": "ipython",
    "version": 3
   },
   "file_extension": ".py",
   "mimetype": "text/x-python",
   "name": "python",
   "nbconvert_exporter": "python",
   "pygments_lexer": "ipython3",
   "version": "3.12.4"
  }
 },
 "nbformat": 4,
 "nbformat_minor": 5
}
